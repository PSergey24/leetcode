{
 "cells": [
  {
   "cell_type": "code",
   "execution_count": null,
   "id": "64c96712-c973-465f-b045-e54d6e1fbe15",
   "metadata": {},
   "outputs": [],
   "source": []
  },
  {
   "cell_type": "code",
   "execution_count": 30,
   "id": "cceb962a-b4d2-4e1c-a8ed-e99098d6d425",
   "metadata": {},
   "outputs": [
    {
     "name": "stdout",
     "output_type": "stream",
     "text": [
      "best values: 10\n",
      "weight: 2, value: 3\n",
      "weight: 4, value: 5\n",
      "weight: 1, value: 2\n"
     ]
    }
   ],
   "source": [
    "def knapsack(capacity, weights, values):\n",
    "    n = len(weights)\n",
    "    DP = [[0] * (capacity + 1) for _ in range(n + 1)]\n",
    "\n",
    "    for i in range(1, n + 1):\n",
    "        w, v = weights[i - 1], values[i - 1]\n",
    "        for sz in range(1, capacity + 1):\n",
    "            DP[i][sz] = DP[i - 1][sz]\n",
    "            if sz >= w and DP[i - 1][sz - w] + v > DP[i][sz]:\n",
    "                DP[i][sz] = DP[i - 1][sz - w] + v\n",
    "\n",
    "    sz = capacity\n",
    "    selected = []\n",
    "    for i in range(n, 0, -1):\n",
    "        if (DP[i][sz] != DP[i - 1][sz]):\n",
    "            current_index = i - 1\n",
    "            selected.append(current_index)\n",
    "            sz -= weights[current_index]\n",
    "\n",
    "    return DP[n][capacity], selected\n",
    "    \n",
    "weights = [3,1,3,4,2]\n",
    "values = [2,2,4,5,3]\n",
    "capacity = 7\n",
    "\n",
    "best, selected = knapsack(capacity, weights, values)\n",
    "print(f\"best values: {best}\")\n",
    "for i in selected:\n",
    "    print(f\"weight: {weights[i]}, value: {values[i]}\")"
   ]
  },
  {
   "cell_type": "code",
   "execution_count": null,
   "id": "b95b34a0-0eee-4fed-ab21-5c5a9c9f509b",
   "metadata": {},
   "outputs": [],
   "source": [
    "1"
   ]
  },
  {
   "cell_type": "code",
   "execution_count": null,
   "id": "f425c0c1-07da-431a-aed6-64e5036dc236",
   "metadata": {},
   "outputs": [],
   "source": []
  },
  {
   "cell_type": "code",
   "execution_count": null,
   "id": "6ff57bbc-8acc-4742-9dfb-a92a669613d9",
   "metadata": {},
   "outputs": [],
   "source": []
  },
  {
   "cell_type": "code",
   "execution_count": null,
   "id": "ab427cce-6423-40f0-925c-7c5ed89be675",
   "metadata": {},
   "outputs": [],
   "source": []
  }
 ],
 "metadata": {
  "kernelspec": {
   "display_name": "Python 3 (ipykernel)",
   "language": "python",
   "name": "python3"
  },
  "language_info": {
   "codemirror_mode": {
    "name": "ipython",
    "version": 3
   },
   "file_extension": ".py",
   "mimetype": "text/x-python",
   "name": "python",
   "nbconvert_exporter": "python",
   "pygments_lexer": "ipython3",
   "version": "3.10.2"
  }
 },
 "nbformat": 4,
 "nbformat_minor": 5
}
